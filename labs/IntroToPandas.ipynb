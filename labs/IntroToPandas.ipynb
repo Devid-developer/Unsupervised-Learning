{
 "cells": [
  {
   "cell_type": "code",
   "execution_count": 1,
   "id": "1e0abb0e",
   "metadata": {},
   "outputs": [],
   "source": [
    "import os\n",
    "import pandas as pd\n",
    "import numpy as np\n",
    "import matplotlib.pyplot as plt \n"
   ]
  },
  {
   "cell_type": "code",
   "execution_count": 3,
   "id": "bf2d0f89",
   "metadata": {},
   "outputs": [
    {
     "name": "stdout",
     "output_type": "stream",
     "text": [
      "Series with default index:\n",
      "0              7\n",
      "1    Hello world\n",
      "2          42.42\n",
      "dtype: object\n",
      "\n"
     ]
    }
   ],
   "source": [
    "s = pd.Series([7, \"Hello world\", 42.42])\n",
    "print(f'Series with default index:\\n{s}\\n')"
   ]
  },
  {
   "cell_type": "code",
   "execution_count": 4,
   "id": "ef4c2c43",
   "metadata": {},
   "outputs": [
    {
     "data": {
      "text/plain": [
       "'Hello world'"
      ]
     },
     "execution_count": 4,
     "metadata": {},
     "output_type": "execute_result"
    }
   ],
   "source": [
    "s[1]"
   ]
  },
  {
   "cell_type": "code",
   "execution_count": 7,
   "id": "8839a010",
   "metadata": {},
   "outputs": [
    {
     "name": "stdout",
     "output_type": "stream",
     "text": [
      "Series with custom index:\n",
      "A              7\n",
      "B    Hello world\n",
      "C          42.42\n",
      "dtype: object\n",
      "\n"
     ]
    },
    {
     "data": {
      "text/plain": [
       "42.42"
      ]
     },
     "execution_count": 7,
     "metadata": {},
     "output_type": "execute_result"
    }
   ],
   "source": [
    "series_with_index = pd.Series([7, \"Hello world\", 42.42], index=[\"A\", \"B\", \"C\"])\n",
    "print(f'Series with custom index:\\n{series_with_index}\\n')\n",
    "series_with_index.iloc[2]"
   ]
  },
  {
   "cell_type": "code",
   "execution_count": 8,
   "id": "8fe18533",
   "metadata": {},
   "outputs": [
    {
     "name": "stdout",
     "output_type": "stream",
     "text": [
      "Series from dictionary:\n",
      "one      1\n",
      "two      2\n",
      "three    3\n",
      "dtype: int64\n",
      "\n"
     ]
    },
    {
     "data": {
      "text/plain": [
       "2"
      ]
     },
     "execution_count": 8,
     "metadata": {},
     "output_type": "execute_result"
    }
   ],
   "source": [
    "d = {\"one\":1, \"two\":2, \"three\":3}\n",
    "sereies_from_dict = pd.Series(d)\n",
    "print(f'Series from dictionary:\\n{sereies_from_dict}\\n')\n",
    "sereies_from_dict[\"two\"]"
   ]
  },
  {
   "cell_type": "code",
   "execution_count": 10,
   "id": "7437ebe1",
   "metadata": {},
   "outputs": [
    {
     "name": "stdout",
     "output_type": "stream",
     "text": [
      "Cities Series:\n",
      "New York       290.0\n",
      "Los Angeles    260.0\n",
      "Chicago        170.0\n",
      "Houston        150.0\n",
      "Las Vegas      620.0\n",
      "Phoenix          NaN\n",
      "dtype: float64\n",
      "\n"
     ]
    }
   ],
   "source": [
    "dd = {\"New York\":290, \"Los Angeles\":260, \"Chicago\":170, \"Houston\":150, \"Las Vegas\":620, \"Phoenix\":None}\n",
    "cities = pd.Series(dd)\n",
    "print(f'Cities Series:\\n{cities}\\n')"
   ]
  },
  {
   "cell_type": "code",
   "execution_count": 12,
   "id": "114fc4f0",
   "metadata": {},
   "outputs": [
    {
     "name": "stdout",
     "output_type": "stream",
     "text": [
      "New York     290.0\n",
      "Chicago      170.0\n",
      "Las Vegas    620.0\n",
      "dtype: float64\n"
     ]
    },
    {
     "data": {
      "text/plain": [
       "pandas.core.series.Series"
      ]
     },
     "execution_count": 12,
     "metadata": {},
     "output_type": "execute_result"
    }
   ],
   "source": [
    "c = cities[[\"New York\", \"Chicago\", \"Las Vegas\"]]\n",
    "print(c)\n",
    "type(c)"
   ]
  },
  {
   "cell_type": "code",
   "execution_count": 13,
   "id": "c24b7674",
   "metadata": {},
   "outputs": [
    {
     "name": "stdout",
     "output_type": "stream",
     "text": [
      "New York       290.0\n",
      "Los Angeles    260.0\n",
      "Las Vegas      620.0\n",
      "dtype: float64\n"
     ]
    }
   ],
   "source": [
    "cc = cities[cities > 200]\n",
    "print(cc)"
   ]
  },
  {
   "cell_type": "code",
   "execution_count": 14,
   "id": "a5824975",
   "metadata": {},
   "outputs": [
    {
     "data": {
      "text/plain": [
       "New York        True\n",
       "Los Angeles     True\n",
       "Chicago        False\n",
       "Houston        False\n",
       "Las Vegas       True\n",
       "Phoenix        False\n",
       "dtype: bool"
      ]
     },
     "execution_count": 14,
     "metadata": {},
     "output_type": "execute_result"
    }
   ],
   "source": [
    "cities > 200"
   ]
  },
  {
   "cell_type": "code",
   "execution_count": 15,
   "id": "d1531939",
   "metadata": {},
   "outputs": [
    {
     "name": "stdout",
     "output_type": "stream",
     "text": [
      "s1:\n",
      "A    1\n",
      "B    2\n",
      "C    3\n",
      "dtype: object\n",
      "\n",
      "s2:\n",
      "A    25\n",
      "D     5\n",
      "C     6\n",
      "dtype: object\n",
      "\n",
      "s1 + s2:\n",
      "A    125\n",
      "B    NaN\n",
      "C      9\n",
      "D    NaN\n",
      "dtype: object\n",
      "\n"
     ]
    }
   ],
   "source": [
    "s1 = pd.Series([\"1\", 2, 3], index=[\"A\", \"B\", \"C\"])\n",
    "s2 = pd.Series([\"25\", 5, 6], index=[\"A\", \"D\", \"C\"])\n",
    "print(f's1:\\n{s1}\\n')\n",
    "print(f's2:\\n{s2}\\n')\n",
    "print(f's1 + s2:\\n{s1 + s2}\\n')"
   ]
  },
  {
   "cell_type": "code",
   "execution_count": 16,
   "id": "6724b1ce",
   "metadata": {},
   "outputs": [
    {
     "name": "stdout",
     "output_type": "stream",
     "text": [
      "Not null values in cities Series:\n",
      "New York        True\n",
      "Los Angeles     True\n",
      "Chicago         True\n",
      "Houston         True\n",
      "Las Vegas       True\n",
      "Phoenix        False\n",
      "dtype: bool\n",
      "\n",
      "Null values in cities Series:\n",
      "New York       False\n",
      "Los Angeles    False\n",
      "Chicago        False\n",
      "Houston        False\n",
      "Las Vegas      False\n",
      "Phoenix         True\n",
      "dtype: bool\n",
      "\n"
     ]
    }
   ],
   "source": [
    "notnull = cities.notnull()\n",
    "print(f'Not null values in cities Series:\\n{notnull}\\n')\n",
    "\n",
    "isnull = cities.isnull()    \n",
    "print(f'Null values in cities Series:\\n{isnull}\\n')"
   ]
  },
  {
   "cell_type": "markdown",
   "id": "e63cdd05",
   "metadata": {},
   "source": [
    "## DataFrame\n",
    "\n",
    "A DataFrame is a tabular data structure made of rows and columns. It can be thought of as a group of Series objects that share an index (the columns' name)."
   ]
  },
  {
   "cell_type": "code",
   "execution_count": 17,
   "id": "0a4ff2ca",
   "metadata": {},
   "outputs": [
    {
     "data": {
      "text/html": [
       "<div>\n",
       "<style scoped>\n",
       "    .dataframe tbody tr th:only-of-type {\n",
       "        vertical-align: middle;\n",
       "    }\n",
       "\n",
       "    .dataframe tbody tr th {\n",
       "        vertical-align: top;\n",
       "    }\n",
       "\n",
       "    .dataframe thead th {\n",
       "        text-align: right;\n",
       "    }\n",
       "</style>\n",
       "<table border=\"1\" class=\"dataframe\">\n",
       "  <thead>\n",
       "    <tr style=\"text-align: right;\">\n",
       "      <th></th>\n",
       "      <th>letters</th>\n",
       "      <th>numbers</th>\n",
       "      <th>spelling</th>\n",
       "    </tr>\n",
       "  </thead>\n",
       "  <tbody>\n",
       "    <tr>\n",
       "      <th>0</th>\n",
       "      <td>A</td>\n",
       "      <td>1</td>\n",
       "      <td>Alpha</td>\n",
       "    </tr>\n",
       "    <tr>\n",
       "      <th>1</th>\n",
       "      <td>B</td>\n",
       "      <td>2</td>\n",
       "      <td>Bravo</td>\n",
       "    </tr>\n",
       "    <tr>\n",
       "      <th>2</th>\n",
       "      <td>C</td>\n",
       "      <td>3</td>\n",
       "      <td>Charlie</td>\n",
       "    </tr>\n",
       "    <tr>\n",
       "      <th>3</th>\n",
       "      <td>D</td>\n",
       "      <td>4</td>\n",
       "      <td>Delta</td>\n",
       "    </tr>\n",
       "    <tr>\n",
       "      <th>4</th>\n",
       "      <td>E</td>\n",
       "      <td>5</td>\n",
       "      <td>Echo</td>\n",
       "    </tr>\n",
       "  </tbody>\n",
       "</table>\n",
       "</div>"
      ],
      "text/plain": [
       "  letters  numbers spelling\n",
       "0       A        1    Alpha\n",
       "1       B        2    Bravo\n",
       "2       C        3  Charlie\n",
       "3       D        4    Delta\n",
       "4       E        5     Echo"
      ]
     },
     "execution_count": 17,
     "metadata": {},
     "output_type": "execute_result"
    }
   ],
   "source": [
    "data = {'letters': ['A', 'B', 'C', 'D', 'E'],\n",
    "        'numbers': [1, 2, 3, 4, 5], \n",
    "        'spelling': ['Alpha', 'Bravo', 'Charlie', 'Delta', 'Echo']}\n",
    "\n",
    "lett_num_df = pd.DataFrame(data, columns=['letters', 'numbers', 'spelling'])\n",
    "lett_num_df"
   ]
  },
  {
   "cell_type": "code",
   "execution_count": null,
   "id": "66f9a266",
   "metadata": {},
   "outputs": [],
   "source": []
  }
 ],
 "metadata": {
  "kernelspec": {
   "display_name": "Python 3",
   "language": "python",
   "name": "python3"
  },
  "language_info": {
   "codemirror_mode": {
    "name": "ipython",
    "version": 3
   },
   "file_extension": ".py",
   "mimetype": "text/x-python",
   "name": "python",
   "nbconvert_exporter": "python",
   "pygments_lexer": "ipython3",
   "version": "3.10.12"
  }
 },
 "nbformat": 4,
 "nbformat_minor": 5
}
