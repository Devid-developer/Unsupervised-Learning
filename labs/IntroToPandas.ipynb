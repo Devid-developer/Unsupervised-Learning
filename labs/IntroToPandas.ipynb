{
 "cells": [
  {
   "cell_type": "code",
   "execution_count": 1,
   "id": "1e0abb0e",
   "metadata": {},
   "outputs": [],
   "source": [
    "import os\n",
    "import pandas as pd\n",
    "import numpy as np\n",
    "import matplotlib.pyplot as plt \n"
   ]
  },
  {
   "cell_type": "code",
   "execution_count": 2,
   "id": "bf2d0f89",
   "metadata": {},
   "outputs": [
    {
     "name": "stdout",
     "output_type": "stream",
     "text": [
      "Series with default index:\n",
      "0              7\n",
      "1    Hello world\n",
      "2          42.42\n",
      "dtype: object\n",
      "\n"
     ]
    }
   ],
   "source": [
    "s = pd.Series([7, \"Hello world\", 42.42])\n",
    "print(f'Series with default index:\\n{s}\\n')"
   ]
  },
  {
   "cell_type": "code",
   "execution_count": 3,
   "id": "ef4c2c43",
   "metadata": {},
   "outputs": [
    {
     "data": {
      "text/plain": [
       "'Hello world'"
      ]
     },
     "execution_count": 3,
     "metadata": {},
     "output_type": "execute_result"
    }
   ],
   "source": [
    "s[1]"
   ]
  },
  {
   "cell_type": "code",
   "execution_count": 4,
   "id": "8839a010",
   "metadata": {},
   "outputs": [
    {
     "name": "stdout",
     "output_type": "stream",
     "text": [
      "Series with custom index:\n",
      "A              7\n",
      "B    Hello world\n",
      "C          42.42\n",
      "dtype: object\n",
      "\n"
     ]
    },
    {
     "data": {
      "text/plain": [
       "42.42"
      ]
     },
     "execution_count": 4,
     "metadata": {},
     "output_type": "execute_result"
    }
   ],
   "source": [
    "series_with_index = pd.Series([7, \"Hello world\", 42.42], index=[\"A\", \"B\", \"C\"])\n",
    "print(f'Series with custom index:\\n{series_with_index}\\n')\n",
    "series_with_index.iloc[2]"
   ]
  },
  {
   "cell_type": "code",
   "execution_count": 5,
   "id": "8fe18533",
   "metadata": {},
   "outputs": [
    {
     "name": "stdout",
     "output_type": "stream",
     "text": [
      "Series from dictionary:\n",
      "one      1\n",
      "two      2\n",
      "three    3\n",
      "dtype: int64\n",
      "\n"
     ]
    },
    {
     "data": {
      "text/plain": [
       "2"
      ]
     },
     "execution_count": 5,
     "metadata": {},
     "output_type": "execute_result"
    }
   ],
   "source": [
    "d = {\"one\":1, \"two\":2, \"three\":3}\n",
    "sereies_from_dict = pd.Series(d)\n",
    "print(f'Series from dictionary:\\n{sereies_from_dict}\\n')\n",
    "sereies_from_dict[\"two\"]"
   ]
  },
  {
   "cell_type": "code",
   "execution_count": 6,
   "id": "7437ebe1",
   "metadata": {},
   "outputs": [
    {
     "name": "stdout",
     "output_type": "stream",
     "text": [
      "Cities Series:\n",
      "New York       290.0\n",
      "Los Angeles    260.0\n",
      "Chicago        170.0\n",
      "Houston        150.0\n",
      "Las Vegas      620.0\n",
      "Phoenix          NaN\n",
      "dtype: float64\n",
      "\n"
     ]
    }
   ],
   "source": [
    "dd = {\"New York\":290, \"Los Angeles\":260, \"Chicago\":170, \"Houston\":150, \"Las Vegas\":620, \"Phoenix\":None}\n",
    "cities = pd.Series(dd)\n",
    "print(f'Cities Series:\\n{cities}\\n')"
   ]
  },
  {
   "cell_type": "code",
   "execution_count": 7,
   "id": "114fc4f0",
   "metadata": {},
   "outputs": [
    {
     "name": "stdout",
     "output_type": "stream",
     "text": [
      "New York     290.0\n",
      "Chicago      170.0\n",
      "Las Vegas    620.0\n",
      "dtype: float64\n"
     ]
    },
    {
     "data": {
      "text/plain": [
       "pandas.core.series.Series"
      ]
     },
     "execution_count": 7,
     "metadata": {},
     "output_type": "execute_result"
    }
   ],
   "source": [
    "c = cities[[\"New York\", \"Chicago\", \"Las Vegas\"]]\n",
    "print(c)\n",
    "type(c)"
   ]
  },
  {
   "cell_type": "code",
   "execution_count": 8,
   "id": "c24b7674",
   "metadata": {},
   "outputs": [
    {
     "name": "stdout",
     "output_type": "stream",
     "text": [
      "New York       290.0\n",
      "Los Angeles    260.0\n",
      "Las Vegas      620.0\n",
      "dtype: float64\n"
     ]
    }
   ],
   "source": [
    "cc = cities[cities > 200]\n",
    "print(cc)"
   ]
  },
  {
   "cell_type": "code",
   "execution_count": 9,
   "id": "a5824975",
   "metadata": {},
   "outputs": [
    {
     "data": {
      "text/plain": [
       "New York        True\n",
       "Los Angeles     True\n",
       "Chicago        False\n",
       "Houston        False\n",
       "Las Vegas       True\n",
       "Phoenix        False\n",
       "dtype: bool"
      ]
     },
     "execution_count": 9,
     "metadata": {},
     "output_type": "execute_result"
    }
   ],
   "source": [
    "cities > 200"
   ]
  },
  {
   "cell_type": "code",
   "execution_count": 10,
   "id": "d1531939",
   "metadata": {},
   "outputs": [
    {
     "name": "stdout",
     "output_type": "stream",
     "text": [
      "s1:\n",
      "A    1\n",
      "B    2\n",
      "C    3\n",
      "dtype: object\n",
      "\n",
      "s2:\n",
      "A    25\n",
      "D     5\n",
      "C     6\n",
      "dtype: object\n",
      "\n",
      "s1 + s2:\n",
      "A    125\n",
      "B    NaN\n",
      "C      9\n",
      "D    NaN\n",
      "dtype: object\n",
      "\n"
     ]
    }
   ],
   "source": [
    "s1 = pd.Series([\"1\", 2, 3], index=[\"A\", \"B\", \"C\"])\n",
    "s2 = pd.Series([\"25\", 5, 6], index=[\"A\", \"D\", \"C\"])\n",
    "print(f's1:\\n{s1}\\n')\n",
    "print(f's2:\\n{s2}\\n')\n",
    "print(f's1 + s2:\\n{s1 + s2}\\n')"
   ]
  },
  {
   "cell_type": "code",
   "execution_count": 11,
   "id": "6724b1ce",
   "metadata": {},
   "outputs": [
    {
     "name": "stdout",
     "output_type": "stream",
     "text": [
      "Not null values in cities Series:\n",
      "New York        True\n",
      "Los Angeles     True\n",
      "Chicago         True\n",
      "Houston         True\n",
      "Las Vegas       True\n",
      "Phoenix        False\n",
      "dtype: bool\n",
      "\n",
      "Null values in cities Series:\n",
      "New York       False\n",
      "Los Angeles    False\n",
      "Chicago        False\n",
      "Houston        False\n",
      "Las Vegas      False\n",
      "Phoenix         True\n",
      "dtype: bool\n",
      "\n"
     ]
    }
   ],
   "source": [
    "notnull = cities.notnull()\n",
    "print(f'Not null values in cities Series:\\n{notnull}\\n')\n",
    "\n",
    "isnull = cities.isnull()    \n",
    "print(f'Null values in cities Series:\\n{isnull}\\n')"
   ]
  },
  {
   "cell_type": "markdown",
   "id": "e63cdd05",
   "metadata": {},
   "source": [
    "## DataFrame\n",
    "\n",
    "A DataFrame is a tabular data structure made of rows and columns. It can be thought of as a group of Series objects that share an index (the columns' name)."
   ]
  },
  {
   "cell_type": "code",
   "execution_count": 12,
   "id": "0a4ff2ca",
   "metadata": {},
   "outputs": [
    {
     "data": {
      "text/html": [
       "<div>\n",
       "<style scoped>\n",
       "    .dataframe tbody tr th:only-of-type {\n",
       "        vertical-align: middle;\n",
       "    }\n",
       "\n",
       "    .dataframe tbody tr th {\n",
       "        vertical-align: top;\n",
       "    }\n",
       "\n",
       "    .dataframe thead th {\n",
       "        text-align: right;\n",
       "    }\n",
       "</style>\n",
       "<table border=\"1\" class=\"dataframe\">\n",
       "  <thead>\n",
       "    <tr style=\"text-align: right;\">\n",
       "      <th></th>\n",
       "      <th>letters</th>\n",
       "      <th>numbers</th>\n",
       "      <th>spelling</th>\n",
       "    </tr>\n",
       "  </thead>\n",
       "  <tbody>\n",
       "    <tr>\n",
       "      <th>0</th>\n",
       "      <td>A</td>\n",
       "      <td>1</td>\n",
       "      <td>Alpha</td>\n",
       "    </tr>\n",
       "    <tr>\n",
       "      <th>1</th>\n",
       "      <td>B</td>\n",
       "      <td>2</td>\n",
       "      <td>Bravo</td>\n",
       "    </tr>\n",
       "    <tr>\n",
       "      <th>2</th>\n",
       "      <td>C</td>\n",
       "      <td>3</td>\n",
       "      <td>Charlie</td>\n",
       "    </tr>\n",
       "    <tr>\n",
       "      <th>3</th>\n",
       "      <td>D</td>\n",
       "      <td>4</td>\n",
       "      <td>Delta</td>\n",
       "    </tr>\n",
       "    <tr>\n",
       "      <th>4</th>\n",
       "      <td>E</td>\n",
       "      <td>5</td>\n",
       "      <td>Echo</td>\n",
       "    </tr>\n",
       "  </tbody>\n",
       "</table>\n",
       "</div>"
      ],
      "text/plain": [
       "  letters  numbers spelling\n",
       "0       A        1    Alpha\n",
       "1       B        2    Bravo\n",
       "2       C        3  Charlie\n",
       "3       D        4    Delta\n",
       "4       E        5     Echo"
      ]
     },
     "execution_count": 12,
     "metadata": {},
     "output_type": "execute_result"
    }
   ],
   "source": [
    "data = {'letters': ['A', 'B', 'C', 'D', 'E'],\n",
    "        'numbers': [1, 2, 3, 4, 5], \n",
    "        'spelling': ['Alpha', 'Bravo', 'Charlie', 'Delta', 'Echo']}\n",
    "\n",
    "lett_num_df = pd.DataFrame(data, columns=['letters', 'numbers', 'spelling'])\n",
    "lett_num_df"
   ]
  },
  {
   "cell_type": "code",
   "execution_count": 19,
   "id": "66f9a266",
   "metadata": {},
   "outputs": [
    {
     "data": {
      "text/html": [
       "<div>\n",
       "<style scoped>\n",
       "    .dataframe tbody tr th:only-of-type {\n",
       "        vertical-align: middle;\n",
       "    }\n",
       "\n",
       "    .dataframe tbody tr th {\n",
       "        vertical-align: top;\n",
       "    }\n",
       "\n",
       "    .dataframe thead th {\n",
       "        text-align: right;\n",
       "    }\n",
       "</style>\n",
       "<table border=\"1\" class=\"dataframe\">\n",
       "  <thead>\n",
       "    <tr style=\"text-align: right;\">\n",
       "      <th></th>\n",
       "      <th>Area</th>\n",
       "      <th>Perimeter</th>\n",
       "      <th>MajorAxisLength</th>\n",
       "      <th>MinorAxisLength</th>\n",
       "      <th>AspectRation</th>\n",
       "      <th>Eccentricity</th>\n",
       "      <th>ConvexArea</th>\n",
       "      <th>EquivDiameter</th>\n",
       "      <th>Extent</th>\n",
       "      <th>Solidity</th>\n",
       "      <th>roundness</th>\n",
       "      <th>Compactness</th>\n",
       "      <th>ShapeFactor1</th>\n",
       "      <th>ShapeFactor2</th>\n",
       "      <th>ShapeFactor3</th>\n",
       "      <th>ShapeFactor4</th>\n",
       "      <th>Class</th>\n",
       "    </tr>\n",
       "  </thead>\n",
       "  <tbody>\n",
       "    <tr>\n",
       "      <th>0</th>\n",
       "      <td>28395</td>\n",
       "      <td>610.291</td>\n",
       "      <td>208.178117</td>\n",
       "      <td>173.888747</td>\n",
       "      <td>1.197191</td>\n",
       "      <td>0.549812</td>\n",
       "      <td>28715</td>\n",
       "      <td>190.141097</td>\n",
       "      <td>0.763923</td>\n",
       "      <td>0.988856</td>\n",
       "      <td>0.958027</td>\n",
       "      <td>0.913358</td>\n",
       "      <td>0.007332</td>\n",
       "      <td>0.003147</td>\n",
       "      <td>0.834222</td>\n",
       "      <td>0.998724</td>\n",
       "      <td>SEKER</td>\n",
       "    </tr>\n",
       "    <tr>\n",
       "      <th>1</th>\n",
       "      <td>28734</td>\n",
       "      <td>638.018</td>\n",
       "      <td>200.524796</td>\n",
       "      <td>182.734419</td>\n",
       "      <td>1.097356</td>\n",
       "      <td>0.411785</td>\n",
       "      <td>29172</td>\n",
       "      <td>191.272750</td>\n",
       "      <td>0.783968</td>\n",
       "      <td>0.984986</td>\n",
       "      <td>0.887034</td>\n",
       "      <td>0.953861</td>\n",
       "      <td>0.006979</td>\n",
       "      <td>0.003564</td>\n",
       "      <td>0.909851</td>\n",
       "      <td>0.998430</td>\n",
       "      <td>SEKER</td>\n",
       "    </tr>\n",
       "    <tr>\n",
       "      <th>2</th>\n",
       "      <td>29380</td>\n",
       "      <td>624.110</td>\n",
       "      <td>212.826130</td>\n",
       "      <td>175.931143</td>\n",
       "      <td>1.209713</td>\n",
       "      <td>0.562727</td>\n",
       "      <td>29690</td>\n",
       "      <td>193.410904</td>\n",
       "      <td>0.778113</td>\n",
       "      <td>0.989559</td>\n",
       "      <td>0.947849</td>\n",
       "      <td>0.908774</td>\n",
       "      <td>0.007244</td>\n",
       "      <td>0.003048</td>\n",
       "      <td>0.825871</td>\n",
       "      <td>0.999066</td>\n",
       "      <td>SEKER</td>\n",
       "    </tr>\n",
       "    <tr>\n",
       "      <th>3</th>\n",
       "      <td>30008</td>\n",
       "      <td>645.884</td>\n",
       "      <td>210.557999</td>\n",
       "      <td>182.516516</td>\n",
       "      <td>1.153638</td>\n",
       "      <td>0.498616</td>\n",
       "      <td>30724</td>\n",
       "      <td>195.467062</td>\n",
       "      <td>0.782681</td>\n",
       "      <td>0.976696</td>\n",
       "      <td>0.903936</td>\n",
       "      <td>0.928329</td>\n",
       "      <td>0.007017</td>\n",
       "      <td>0.003215</td>\n",
       "      <td>0.861794</td>\n",
       "      <td>0.994199</td>\n",
       "      <td>SEKER</td>\n",
       "    </tr>\n",
       "    <tr>\n",
       "      <th>4</th>\n",
       "      <td>30140</td>\n",
       "      <td>620.134</td>\n",
       "      <td>201.847882</td>\n",
       "      <td>190.279279</td>\n",
       "      <td>1.060798</td>\n",
       "      <td>0.333680</td>\n",
       "      <td>30417</td>\n",
       "      <td>195.896503</td>\n",
       "      <td>0.773098</td>\n",
       "      <td>0.990893</td>\n",
       "      <td>0.984877</td>\n",
       "      <td>0.970516</td>\n",
       "      <td>0.006697</td>\n",
       "      <td>0.003665</td>\n",
       "      <td>0.941900</td>\n",
       "      <td>0.999166</td>\n",
       "      <td>SEKER</td>\n",
       "    </tr>\n",
       "    <tr>\n",
       "      <th>5</th>\n",
       "      <td>30279</td>\n",
       "      <td>634.927</td>\n",
       "      <td>212.560556</td>\n",
       "      <td>181.510182</td>\n",
       "      <td>1.171067</td>\n",
       "      <td>0.520401</td>\n",
       "      <td>30600</td>\n",
       "      <td>196.347702</td>\n",
       "      <td>0.775688</td>\n",
       "      <td>0.989510</td>\n",
       "      <td>0.943852</td>\n",
       "      <td>0.923726</td>\n",
       "      <td>0.007020</td>\n",
       "      <td>0.003153</td>\n",
       "      <td>0.853270</td>\n",
       "      <td>0.999236</td>\n",
       "      <td>SEKER</td>\n",
       "    </tr>\n",
       "    <tr>\n",
       "      <th>6</th>\n",
       "      <td>30477</td>\n",
       "      <td>670.033</td>\n",
       "      <td>211.050155</td>\n",
       "      <td>184.039050</td>\n",
       "      <td>1.146768</td>\n",
       "      <td>0.489478</td>\n",
       "      <td>30970</td>\n",
       "      <td>196.988633</td>\n",
       "      <td>0.762402</td>\n",
       "      <td>0.984081</td>\n",
       "      <td>0.853080</td>\n",
       "      <td>0.933374</td>\n",
       "      <td>0.006925</td>\n",
       "      <td>0.003242</td>\n",
       "      <td>0.871186</td>\n",
       "      <td>0.999049</td>\n",
       "      <td>SEKER</td>\n",
       "    </tr>\n",
       "    <tr>\n",
       "      <th>7</th>\n",
       "      <td>30519</td>\n",
       "      <td>629.727</td>\n",
       "      <td>212.996755</td>\n",
       "      <td>182.737204</td>\n",
       "      <td>1.165591</td>\n",
       "      <td>0.513760</td>\n",
       "      <td>30847</td>\n",
       "      <td>197.124320</td>\n",
       "      <td>0.770682</td>\n",
       "      <td>0.989367</td>\n",
       "      <td>0.967109</td>\n",
       "      <td>0.925480</td>\n",
       "      <td>0.006979</td>\n",
       "      <td>0.003158</td>\n",
       "      <td>0.856514</td>\n",
       "      <td>0.998345</td>\n",
       "      <td>SEKER</td>\n",
       "    </tr>\n",
       "    <tr>\n",
       "      <th>8</th>\n",
       "      <td>30685</td>\n",
       "      <td>635.681</td>\n",
       "      <td>213.534145</td>\n",
       "      <td>183.157146</td>\n",
       "      <td>1.165852</td>\n",
       "      <td>0.514081</td>\n",
       "      <td>31044</td>\n",
       "      <td>197.659696</td>\n",
       "      <td>0.771561</td>\n",
       "      <td>0.988436</td>\n",
       "      <td>0.954240</td>\n",
       "      <td>0.925658</td>\n",
       "      <td>0.006959</td>\n",
       "      <td>0.003152</td>\n",
       "      <td>0.856844</td>\n",
       "      <td>0.998953</td>\n",
       "      <td>SEKER</td>\n",
       "    </tr>\n",
       "    <tr>\n",
       "      <th>9</th>\n",
       "      <td>30834</td>\n",
       "      <td>631.934</td>\n",
       "      <td>217.227813</td>\n",
       "      <td>180.897469</td>\n",
       "      <td>1.200834</td>\n",
       "      <td>0.553642</td>\n",
       "      <td>31120</td>\n",
       "      <td>198.139012</td>\n",
       "      <td>0.783683</td>\n",
       "      <td>0.990810</td>\n",
       "      <td>0.970278</td>\n",
       "      <td>0.912125</td>\n",
       "      <td>0.007045</td>\n",
       "      <td>0.003008</td>\n",
       "      <td>0.831973</td>\n",
       "      <td>0.999061</td>\n",
       "      <td>SEKER</td>\n",
       "    </tr>\n",
       "  </tbody>\n",
       "</table>\n",
       "</div>"
      ],
      "text/plain": [
       "    Area  Perimeter  MajorAxisLength  MinorAxisLength  AspectRation  \\\n",
       "0  28395    610.291       208.178117       173.888747      1.197191   \n",
       "1  28734    638.018       200.524796       182.734419      1.097356   \n",
       "2  29380    624.110       212.826130       175.931143      1.209713   \n",
       "3  30008    645.884       210.557999       182.516516      1.153638   \n",
       "4  30140    620.134       201.847882       190.279279      1.060798   \n",
       "5  30279    634.927       212.560556       181.510182      1.171067   \n",
       "6  30477    670.033       211.050155       184.039050      1.146768   \n",
       "7  30519    629.727       212.996755       182.737204      1.165591   \n",
       "8  30685    635.681       213.534145       183.157146      1.165852   \n",
       "9  30834    631.934       217.227813       180.897469      1.200834   \n",
       "\n",
       "   Eccentricity  ConvexArea  EquivDiameter    Extent  Solidity  roundness  \\\n",
       "0      0.549812       28715     190.141097  0.763923  0.988856   0.958027   \n",
       "1      0.411785       29172     191.272750  0.783968  0.984986   0.887034   \n",
       "2      0.562727       29690     193.410904  0.778113  0.989559   0.947849   \n",
       "3      0.498616       30724     195.467062  0.782681  0.976696   0.903936   \n",
       "4      0.333680       30417     195.896503  0.773098  0.990893   0.984877   \n",
       "5      0.520401       30600     196.347702  0.775688  0.989510   0.943852   \n",
       "6      0.489478       30970     196.988633  0.762402  0.984081   0.853080   \n",
       "7      0.513760       30847     197.124320  0.770682  0.989367   0.967109   \n",
       "8      0.514081       31044     197.659696  0.771561  0.988436   0.954240   \n",
       "9      0.553642       31120     198.139012  0.783683  0.990810   0.970278   \n",
       "\n",
       "   Compactness  ShapeFactor1  ShapeFactor2  ShapeFactor3  ShapeFactor4  Class  \n",
       "0     0.913358      0.007332      0.003147      0.834222      0.998724  SEKER  \n",
       "1     0.953861      0.006979      0.003564      0.909851      0.998430  SEKER  \n",
       "2     0.908774      0.007244      0.003048      0.825871      0.999066  SEKER  \n",
       "3     0.928329      0.007017      0.003215      0.861794      0.994199  SEKER  \n",
       "4     0.970516      0.006697      0.003665      0.941900      0.999166  SEKER  \n",
       "5     0.923726      0.007020      0.003153      0.853270      0.999236  SEKER  \n",
       "6     0.933374      0.006925      0.003242      0.871186      0.999049  SEKER  \n",
       "7     0.925480      0.006979      0.003158      0.856514      0.998345  SEKER  \n",
       "8     0.925658      0.006959      0.003152      0.856844      0.998953  SEKER  \n",
       "9     0.912125      0.007045      0.003008      0.831973      0.999061  SEKER  "
      ]
     },
     "execution_count": 19,
     "metadata": {},
     "output_type": "execute_result"
    }
   ],
   "source": [
    "# check current working dir and whether file exists\n",
    "#print(os.getcwd())\n",
    "#print(os.path.exists('../Dataset/Dry_Bean_Dataset.xlsx'))\n",
    "#print(os.listdir('../Dataset'))\n",
    "\n",
    "\n",
    "beans = pd.read_excel('../Dataset/Dry_Bean_Dataset.xlsx')\n",
    "beans.head(10)"
   ]
  },
  {
   "cell_type": "code",
   "execution_count": 20,
   "id": "4fe39b9a",
   "metadata": {},
   "outputs": [
    {
     "data": {
      "text/plain": [
       "(13611, 17)"
      ]
     },
     "execution_count": 20,
     "metadata": {},
     "output_type": "execute_result"
    }
   ],
   "source": [
    "beans.shape"
   ]
  },
  {
   "cell_type": "code",
   "execution_count": 21,
   "id": "3943464d",
   "metadata": {},
   "outputs": [
    {
     "data": {
      "text/html": [
       "<div>\n",
       "<style scoped>\n",
       "    .dataframe tbody tr th:only-of-type {\n",
       "        vertical-align: middle;\n",
       "    }\n",
       "\n",
       "    .dataframe tbody tr th {\n",
       "        vertical-align: top;\n",
       "    }\n",
       "\n",
       "    .dataframe thead th {\n",
       "        text-align: right;\n",
       "    }\n",
       "</style>\n",
       "<table border=\"1\" class=\"dataframe\">\n",
       "  <thead>\n",
       "    <tr style=\"text-align: right;\">\n",
       "      <th></th>\n",
       "      <th>Unnamed: 0</th>\n",
       "      <th>score_phrase</th>\n",
       "      <th>title</th>\n",
       "      <th>url</th>\n",
       "      <th>platform</th>\n",
       "      <th>score</th>\n",
       "      <th>genre</th>\n",
       "      <th>editors_choice</th>\n",
       "      <th>release_year</th>\n",
       "      <th>release_month</th>\n",
       "      <th>release_day</th>\n",
       "    </tr>\n",
       "  </thead>\n",
       "  <tbody>\n",
       "    <tr>\n",
       "      <th>0</th>\n",
       "      <td>0</td>\n",
       "      <td>Amazing</td>\n",
       "      <td>LittleBigPlanet PS Vita</td>\n",
       "      <td>/games/littlebigplanet-vita/vita-98907</td>\n",
       "      <td>PlayStation Vita</td>\n",
       "      <td>9.0</td>\n",
       "      <td>Platformer</td>\n",
       "      <td>Y</td>\n",
       "      <td>2012</td>\n",
       "      <td>9</td>\n",
       "      <td>12</td>\n",
       "    </tr>\n",
       "    <tr>\n",
       "      <th>1</th>\n",
       "      <td>1</td>\n",
       "      <td>Amazing</td>\n",
       "      <td>LittleBigPlanet PS Vita -- Marvel Super Hero E...</td>\n",
       "      <td>/games/littlebigplanet-ps-vita-marvel-super-he...</td>\n",
       "      <td>PlayStation Vita</td>\n",
       "      <td>9.0</td>\n",
       "      <td>Platformer</td>\n",
       "      <td>Y</td>\n",
       "      <td>2012</td>\n",
       "      <td>9</td>\n",
       "      <td>12</td>\n",
       "    </tr>\n",
       "    <tr>\n",
       "      <th>2</th>\n",
       "      <td>2</td>\n",
       "      <td>Great</td>\n",
       "      <td>Splice: Tree of Life</td>\n",
       "      <td>/games/splice/ipad-141070</td>\n",
       "      <td>iPad</td>\n",
       "      <td>8.5</td>\n",
       "      <td>Puzzle</td>\n",
       "      <td>N</td>\n",
       "      <td>2012</td>\n",
       "      <td>9</td>\n",
       "      <td>12</td>\n",
       "    </tr>\n",
       "  </tbody>\n",
       "</table>\n",
       "</div>"
      ],
      "text/plain": [
       "   Unnamed: 0 score_phrase                                              title  \\\n",
       "0           0      Amazing                            LittleBigPlanet PS Vita   \n",
       "1           1      Amazing  LittleBigPlanet PS Vita -- Marvel Super Hero E...   \n",
       "2           2        Great                               Splice: Tree of Life   \n",
       "\n",
       "                                                 url          platform  score  \\\n",
       "0             /games/littlebigplanet-vita/vita-98907  PlayStation Vita    9.0   \n",
       "1  /games/littlebigplanet-ps-vita-marvel-super-he...  PlayStation Vita    9.0   \n",
       "2                          /games/splice/ipad-141070              iPad    8.5   \n",
       "\n",
       "        genre editors_choice  release_year  release_month  release_day  \n",
       "0  Platformer              Y          2012              9           12  \n",
       "1  Platformer              Y          2012              9           12  \n",
       "2      Puzzle              N          2012              9           12  "
      ]
     },
     "execution_count": 21,
     "metadata": {},
     "output_type": "execute_result"
    }
   ],
   "source": [
    "# import csv dataset\n",
    "path_csv = 'https://raw.githubusercontent.com/GaiaSaveri/intro-to-ml/main/data/ign.csv'\n",
    "reviews = pd.read_csv(path_csv)\n",
    "reviews.head(3)"
   ]
  },
  {
   "cell_type": "code",
   "execution_count": 22,
   "id": "1d20a692",
   "metadata": {},
   "outputs": [
    {
     "data": {
      "text/html": [
       "<div>\n",
       "<style scoped>\n",
       "    .dataframe tbody tr th:only-of-type {\n",
       "        vertical-align: middle;\n",
       "    }\n",
       "\n",
       "    .dataframe tbody tr th {\n",
       "        vertical-align: top;\n",
       "    }\n",
       "\n",
       "    .dataframe thead th {\n",
       "        text-align: right;\n",
       "    }\n",
       "</style>\n",
       "<table border=\"1\" class=\"dataframe\">\n",
       "  <thead>\n",
       "    <tr style=\"text-align: right;\">\n",
       "      <th></th>\n",
       "      <th>score_phrase</th>\n",
       "      <th>title</th>\n",
       "      <th>url</th>\n",
       "      <th>platform</th>\n",
       "      <th>score</th>\n",
       "      <th>genre</th>\n",
       "      <th>editors_choice</th>\n",
       "      <th>release_year</th>\n",
       "      <th>release_month</th>\n",
       "      <th>release_day</th>\n",
       "    </tr>\n",
       "  </thead>\n",
       "  <tbody>\n",
       "    <tr>\n",
       "      <th>0</th>\n",
       "      <td>Amazing</td>\n",
       "      <td>LittleBigPlanet PS Vita</td>\n",
       "      <td>/games/littlebigplanet-vita/vita-98907</td>\n",
       "      <td>PlayStation Vita</td>\n",
       "      <td>9.0</td>\n",
       "      <td>Platformer</td>\n",
       "      <td>Y</td>\n",
       "      <td>2012</td>\n",
       "      <td>9</td>\n",
       "      <td>12</td>\n",
       "    </tr>\n",
       "    <tr>\n",
       "      <th>1</th>\n",
       "      <td>Amazing</td>\n",
       "      <td>LittleBigPlanet PS Vita -- Marvel Super Hero E...</td>\n",
       "      <td>/games/littlebigplanet-ps-vita-marvel-super-he...</td>\n",
       "      <td>PlayStation Vita</td>\n",
       "      <td>9.0</td>\n",
       "      <td>Platformer</td>\n",
       "      <td>Y</td>\n",
       "      <td>2012</td>\n",
       "      <td>9</td>\n",
       "      <td>12</td>\n",
       "    </tr>\n",
       "    <tr>\n",
       "      <th>2</th>\n",
       "      <td>Great</td>\n",
       "      <td>Splice: Tree of Life</td>\n",
       "      <td>/games/splice/ipad-141070</td>\n",
       "      <td>iPad</td>\n",
       "      <td>8.5</td>\n",
       "      <td>Puzzle</td>\n",
       "      <td>N</td>\n",
       "      <td>2012</td>\n",
       "      <td>9</td>\n",
       "      <td>12</td>\n",
       "    </tr>\n",
       "  </tbody>\n",
       "</table>\n",
       "</div>"
      ],
      "text/plain": [
       "  score_phrase                                              title  \\\n",
       "0      Amazing                            LittleBigPlanet PS Vita   \n",
       "1      Amazing  LittleBigPlanet PS Vita -- Marvel Super Hero E...   \n",
       "2        Great                               Splice: Tree of Life   \n",
       "\n",
       "                                                 url          platform  score  \\\n",
       "0             /games/littlebigplanet-vita/vita-98907  PlayStation Vita    9.0   \n",
       "1  /games/littlebigplanet-ps-vita-marvel-super-he...  PlayStation Vita    9.0   \n",
       "2                          /games/splice/ipad-141070              iPad    8.5   \n",
       "\n",
       "        genre editors_choice  release_year  release_month  release_day  \n",
       "0  Platformer              Y          2012              9           12  \n",
       "1  Platformer              Y          2012              9           12  \n",
       "2      Puzzle              N          2012              9           12  "
      ]
     },
     "execution_count": 22,
     "metadata": {},
     "output_type": "execute_result"
    }
   ],
   "source": [
    "reviews = reviews.iloc[:, 1:]  # remove first column\n",
    "reviews.head(3)"
   ]
  },
  {
   "cell_type": "code",
   "execution_count": 23,
   "id": "576a680e",
   "metadata": {},
   "outputs": [
    {
     "data": {
      "text/html": [
       "<div>\n",
       "<style scoped>\n",
       "    .dataframe tbody tr th:only-of-type {\n",
       "        vertical-align: middle;\n",
       "    }\n",
       "\n",
       "    .dataframe tbody tr th {\n",
       "        vertical-align: top;\n",
       "    }\n",
       "\n",
       "    .dataframe thead th {\n",
       "        text-align: right;\n",
       "    }\n",
       "</style>\n",
       "<table border=\"1\" class=\"dataframe\">\n",
       "  <thead>\n",
       "    <tr style=\"text-align: right;\">\n",
       "      <th></th>\n",
       "      <th>score_phrase</th>\n",
       "      <th>title</th>\n",
       "    </tr>\n",
       "  </thead>\n",
       "  <tbody>\n",
       "    <tr>\n",
       "      <th>0</th>\n",
       "      <td>Amazing</td>\n",
       "      <td>LittleBigPlanet PS Vita</td>\n",
       "    </tr>\n",
       "    <tr>\n",
       "      <th>1</th>\n",
       "      <td>Amazing</td>\n",
       "      <td>LittleBigPlanet PS Vita -- Marvel Super Hero E...</td>\n",
       "    </tr>\n",
       "    <tr>\n",
       "      <th>2</th>\n",
       "      <td>Great</td>\n",
       "      <td>Splice: Tree of Life</td>\n",
       "    </tr>\n",
       "    <tr>\n",
       "      <th>3</th>\n",
       "      <td>Great</td>\n",
       "      <td>NHL 13</td>\n",
       "    </tr>\n",
       "    <tr>\n",
       "      <th>4</th>\n",
       "      <td>Great</td>\n",
       "      <td>NHL 13</td>\n",
       "    </tr>\n",
       "    <tr>\n",
       "      <th>5</th>\n",
       "      <td>Good</td>\n",
       "      <td>Total War Battles: Shogun</td>\n",
       "    </tr>\n",
       "    <tr>\n",
       "      <th>6</th>\n",
       "      <td>Awful</td>\n",
       "      <td>Double Dragon: Neon</td>\n",
       "    </tr>\n",
       "    <tr>\n",
       "      <th>7</th>\n",
       "      <td>Amazing</td>\n",
       "      <td>Guild Wars 2</td>\n",
       "    </tr>\n",
       "    <tr>\n",
       "      <th>8</th>\n",
       "      <td>Awful</td>\n",
       "      <td>Double Dragon: Neon</td>\n",
       "    </tr>\n",
       "    <tr>\n",
       "      <th>9</th>\n",
       "      <td>Good</td>\n",
       "      <td>Total War Battles: Shogun</td>\n",
       "    </tr>\n",
       "  </tbody>\n",
       "</table>\n",
       "</div>"
      ],
      "text/plain": [
       "  score_phrase                                              title\n",
       "0      Amazing                            LittleBigPlanet PS Vita\n",
       "1      Amazing  LittleBigPlanet PS Vita -- Marvel Super Hero E...\n",
       "2        Great                               Splice: Tree of Life\n",
       "3        Great                                             NHL 13\n",
       "4        Great                                             NHL 13\n",
       "5         Good                          Total War Battles: Shogun\n",
       "6        Awful                                Double Dragon: Neon\n",
       "7      Amazing                                       Guild Wars 2\n",
       "8        Awful                                Double Dragon: Neon\n",
       "9         Good                          Total War Battles: Shogun"
      ]
     },
     "execution_count": 23,
     "metadata": {},
     "output_type": "execute_result"
    }
   ],
   "source": [
    "reviews.iloc[0:10, 0:2]"
   ]
  },
  {
   "cell_type": "code",
   "execution_count": 24,
   "id": "1edb59ea",
   "metadata": {},
   "outputs": [
    {
     "data": {
      "text/html": [
       "<div>\n",
       "<style scoped>\n",
       "    .dataframe tbody tr th:only-of-type {\n",
       "        vertical-align: middle;\n",
       "    }\n",
       "\n",
       "    .dataframe tbody tr th {\n",
       "        vertical-align: top;\n",
       "    }\n",
       "\n",
       "    .dataframe thead th {\n",
       "        text-align: right;\n",
       "    }\n",
       "</style>\n",
       "<table border=\"1\" class=\"dataframe\">\n",
       "  <thead>\n",
       "    <tr style=\"text-align: right;\">\n",
       "      <th></th>\n",
       "      <th>score_phrase</th>\n",
       "      <th>score</th>\n",
       "    </tr>\n",
       "  </thead>\n",
       "  <tbody>\n",
       "    <tr>\n",
       "      <th>0</th>\n",
       "      <td>Amazing</td>\n",
       "      <td>9.0</td>\n",
       "    </tr>\n",
       "    <tr>\n",
       "      <th>1</th>\n",
       "      <td>Amazing</td>\n",
       "      <td>9.0</td>\n",
       "    </tr>\n",
       "    <tr>\n",
       "      <th>2</th>\n",
       "      <td>Great</td>\n",
       "      <td>8.5</td>\n",
       "    </tr>\n",
       "    <tr>\n",
       "      <th>3</th>\n",
       "      <td>Great</td>\n",
       "      <td>8.5</td>\n",
       "    </tr>\n",
       "    <tr>\n",
       "      <th>4</th>\n",
       "      <td>Great</td>\n",
       "      <td>8.5</td>\n",
       "    </tr>\n",
       "    <tr>\n",
       "      <th>5</th>\n",
       "      <td>Good</td>\n",
       "      <td>7.0</td>\n",
       "    </tr>\n",
       "    <tr>\n",
       "      <th>6</th>\n",
       "      <td>Awful</td>\n",
       "      <td>3.0</td>\n",
       "    </tr>\n",
       "    <tr>\n",
       "      <th>7</th>\n",
       "      <td>Amazing</td>\n",
       "      <td>9.0</td>\n",
       "    </tr>\n",
       "    <tr>\n",
       "      <th>8</th>\n",
       "      <td>Awful</td>\n",
       "      <td>3.0</td>\n",
       "    </tr>\n",
       "    <tr>\n",
       "      <th>9</th>\n",
       "      <td>Good</td>\n",
       "      <td>7.0</td>\n",
       "    </tr>\n",
       "    <tr>\n",
       "      <th>10</th>\n",
       "      <td>Good</td>\n",
       "      <td>7.5</td>\n",
       "    </tr>\n",
       "  </tbody>\n",
       "</table>\n",
       "</div>"
      ],
      "text/plain": [
       "   score_phrase  score\n",
       "0       Amazing    9.0\n",
       "1       Amazing    9.0\n",
       "2         Great    8.5\n",
       "3         Great    8.5\n",
       "4         Great    8.5\n",
       "5          Good    7.0\n",
       "6         Awful    3.0\n",
       "7       Amazing    9.0\n",
       "8         Awful    3.0\n",
       "9          Good    7.0\n",
       "10         Good    7.5"
      ]
     },
     "execution_count": 24,
     "metadata": {},
     "output_type": "execute_result"
    }
   ],
   "source": [
    "reviews.loc[0:10, ['score_phrase', 'score']]"
   ]
  },
  {
   "cell_type": "code",
   "execution_count": 25,
   "id": "91af847a",
   "metadata": {},
   "outputs": [
    {
     "data": {
      "text/plain": [
       "0        False\n",
       "1        False\n",
       "2        False\n",
       "3        False\n",
       "4        False\n",
       "         ...  \n",
       "18620    False\n",
       "18621    False\n",
       "18622    False\n",
       "18623     True\n",
       "18624     True\n",
       "Name: score, Length: 18625, dtype: bool"
      ]
     },
     "execution_count": 25,
     "metadata": {},
     "output_type": "execute_result"
    }
   ],
   "source": [
    "mask = reviews['score'] > 9\n",
    "mask"
   ]
  },
  {
   "cell_type": "code",
   "execution_count": 26,
   "id": "f6528efd",
   "metadata": {},
   "outputs": [
    {
     "name": "stdout",
     "output_type": "stream",
     "text": [
      "fraction of cool games:0.05057718120805369\n"
     ]
    }
   ],
   "source": [
    "cool_games = reviews[mask][\"title\"]\n",
    "print(f'fraction of cool games:{len(cool_games) / len(reviews[\"title\"])}')"
   ]
  },
  {
   "cell_type": "code",
   "execution_count": 28,
   "id": "86295d69",
   "metadata": {},
   "outputs": [
    {
     "name": "stdout",
     "output_type": "stream",
     "text": [
      "<class 'pandas.core.frame.DataFrame'>\n",
      "RangeIndex: 18625 entries, 0 to 18624\n",
      "Data columns (total 10 columns):\n",
      " #   Column          Non-Null Count  Dtype  \n",
      "---  ------          --------------  -----  \n",
      " 0   score_phrase    18625 non-null  object \n",
      " 1   title           18625 non-null  object \n",
      " 2   url             18625 non-null  object \n",
      " 3   platform        18625 non-null  object \n",
      " 4   score           18625 non-null  float64\n",
      " 5   genre           18589 non-null  object \n",
      " 6   editors_choice  18625 non-null  object \n",
      " 7   release_year    18625 non-null  int64  \n",
      " 8   release_month   18625 non-null  int64  \n",
      " 9   release_day     18625 non-null  int64  \n",
      "dtypes: float64(1), int64(3), object(6)\n",
      "memory usage: 1.4+ MB\n"
     ]
    }
   ],
   "source": [
    "reviews.info()"
   ]
  },
  {
   "cell_type": "code",
   "execution_count": 29,
   "id": "5d1555a5",
   "metadata": {},
   "outputs": [
    {
     "data": {
      "text/plain": [
       "count    18625.000000\n",
       "mean         6.950459\n",
       "std          1.711736\n",
       "min          0.500000\n",
       "25%          6.000000\n",
       "50%          7.300000\n",
       "75%          8.200000\n",
       "max         10.000000\n",
       "Name: score, dtype: float64"
      ]
     },
     "execution_count": 29,
     "metadata": {},
     "output_type": "execute_result"
    }
   ],
   "source": [
    "reviews[\"score\"].describe()"
   ]
  },
  {
   "cell_type": "code",
   "execution_count": null,
   "id": "3e74ae7f",
   "metadata": {},
   "outputs": [
    {
     "data": {
      "text/plain": [
       "score               6.950459\n",
       "release_year     2006.515329\n",
       "release_month       7.138470\n",
       "release_day        15.603866\n",
       "dtype: float64"
      ]
     },
     "execution_count": 31,
     "metadata": {},
     "output_type": "execute_result"
    }
   ],
   "source": [
    "reviews.mean(numeric_only=True)"
   ]
  },
  {
   "cell_type": "code",
   "execution_count": 34,
   "id": "1809555d",
   "metadata": {},
   "outputs": [
    {
     "data": {
      "text/plain": [
       "array(['PlayStation Vita', 'iPad', 'Xbox 360', 'PlayStation 3',\n",
       "       'Macintosh', 'PC', 'iPhone', 'Nintendo DS', 'Nintendo 3DS',\n",
       "       'Android', 'Wii', 'PlayStation 4', 'Wii U', 'Linux',\n",
       "       'PlayStation Portable', 'PlayStation', 'Nintendo 64', 'Saturn',\n",
       "       'Lynx', 'Game Boy', 'Game Boy Color', 'NeoGeo Pocket Color',\n",
       "       'Game.Com', 'Dreamcast', 'Dreamcast VMU', 'WonderSwan', 'Arcade',\n",
       "       'Nintendo 64DD', 'PlayStation 2', 'WonderSwan Color',\n",
       "       'Game Boy Advance', 'Xbox', 'GameCube', 'DVD / HD Video Game',\n",
       "       'Wireless', 'Pocket PC', 'N-Gage', 'NES', 'iPod', 'Genesis',\n",
       "       'TurboGrafx-16', 'Super NES', 'NeoGeo', 'Master System',\n",
       "       'Atari 5200', 'TurboGrafx-CD', 'Atari 2600', 'Sega 32X', 'Vectrex',\n",
       "       'Commodore 64/128', 'Sega CD', 'Nintendo DSi', 'Windows Phone',\n",
       "       'Web Games', 'Xbox One', 'Windows Surface', 'Ouya',\n",
       "       'New Nintendo 3DS', 'SteamOS'], dtype=object)"
      ]
     },
     "execution_count": 34,
     "metadata": {},
     "output_type": "execute_result"
    }
   ],
   "source": [
    "reviews[\"platform\"].unique()\n"
   ]
  },
  {
   "cell_type": "code",
   "execution_count": 35,
   "id": "e5372f51",
   "metadata": {},
   "outputs": [
    {
     "data": {
      "text/plain": [
       "release_year\n",
       "1970       1\n",
       "1996     149\n",
       "1997     205\n",
       "1998     339\n",
       "1999     775\n",
       "2000    1045\n",
       "2001     688\n",
       "2002     936\n",
       "2003     969\n",
       "2004     997\n",
       "2005    1088\n",
       "2006    1208\n",
       "2007    1610\n",
       "2008    1915\n",
       "2009    1687\n",
       "2010    1363\n",
       "2011    1073\n",
       "2012     753\n",
       "2013     696\n",
       "2014     537\n",
       "2015     365\n",
       "2016     226\n",
       "Name: count, dtype: int64"
      ]
     },
     "execution_count": 35,
     "metadata": {},
     "output_type": "execute_result"
    }
   ],
   "source": [
    "reviews[\"release_year\"].value_counts(dropna=False).sort_index()"
   ]
  },
  {
   "cell_type": "code",
   "execution_count": 36,
   "id": "959957fb",
   "metadata": {},
   "outputs": [
    {
     "data": {
      "text/plain": [
       "platform\n",
       "Android                   39\n",
       "Arcade                    11\n",
       "Atari 2600                 5\n",
       "Atari 5200                 2\n",
       "Commodore 64/128           6\n",
       "DVD / HD Video Game        1\n",
       "Dreamcast                286\n",
       "Dreamcast VMU              1\n",
       "Game Boy                  22\n",
       "Game Boy Advance         623\n",
       "Game Boy Color           356\n",
       "Game.Com                   3\n",
       "GameCube                 509\n",
       "Genesis                   58\n",
       "Linux                     10\n",
       "Lynx                      82\n",
       "Macintosh                 81\n",
       "Master System             13\n",
       "N-Gage                    30\n",
       "NES                       49\n",
       "NeoGeo                    10\n",
       "NeoGeo Pocket Color       31\n",
       "New Nintendo 3DS           2\n",
       "Nintendo 3DS             225\n",
       "Nintendo 64              302\n",
       "Nintendo 64DD              7\n",
       "Nintendo DS             1045\n",
       "Nintendo DSi             254\n",
       "Ouya                       1\n",
       "PC                      3370\n",
       "PlayStation              952\n",
       "PlayStation 2           1686\n",
       "PlayStation 3           1356\n",
       "PlayStation 4            277\n",
       "PlayStation Portable     633\n",
       "PlayStation Vita         155\n",
       "Pocket PC                  1\n",
       "Saturn                     6\n",
       "Sega 32X                  16\n",
       "Sega CD                    1\n",
       "SteamOS                    1\n",
       "Super NES                 33\n",
       "TurboGrafx-16             40\n",
       "TurboGrafx-CD              3\n",
       "Vectrex                    2\n",
       "Web Games                  1\n",
       "Wii                     1366\n",
       "Wii U                    114\n",
       "Windows Phone             14\n",
       "Windows Surface            1\n",
       "Wireless                 910\n",
       "WonderSwan                 4\n",
       "WonderSwan Color           1\n",
       "Xbox                     821\n",
       "Xbox 360                1631\n",
       "Xbox One                 208\n",
       "iPad                      99\n",
       "iPhone                   842\n",
       "iPod                      17\n",
       "dtype: int64"
      ]
     },
     "execution_count": 36,
     "metadata": {},
     "output_type": "execute_result"
    }
   ],
   "source": [
    "grouped = reviews.groupby(\"platform\")\n",
    "grouped.size()"
   ]
  },
  {
   "cell_type": "code",
   "execution_count": 37,
   "id": "162262b1",
   "metadata": {},
   "outputs": [
    {
     "name": "stdout",
     "output_type": "stream",
     "text": [
      "Android - (39, 10) \n",
      " <class 'pandas.core.frame.DataFrame'>\n",
      "Arcade - (11, 10) \n",
      " <class 'pandas.core.frame.DataFrame'>\n",
      "Atari 2600 - (5, 10) \n",
      " <class 'pandas.core.frame.DataFrame'>\n",
      "Atari 5200 - (2, 10) \n",
      " <class 'pandas.core.frame.DataFrame'>\n",
      "Commodore 64/128 - (6, 10) \n",
      " <class 'pandas.core.frame.DataFrame'>\n",
      "DVD / HD Video Game - (1, 10) \n",
      " <class 'pandas.core.frame.DataFrame'>\n",
      "Dreamcast - (286, 10) \n",
      " <class 'pandas.core.frame.DataFrame'>\n",
      "Dreamcast VMU - (1, 10) \n",
      " <class 'pandas.core.frame.DataFrame'>\n",
      "Game Boy - (22, 10) \n",
      " <class 'pandas.core.frame.DataFrame'>\n",
      "Game Boy Advance - (623, 10) \n",
      " <class 'pandas.core.frame.DataFrame'>\n",
      "Game Boy Color - (356, 10) \n",
      " <class 'pandas.core.frame.DataFrame'>\n",
      "Game.Com - (3, 10) \n",
      " <class 'pandas.core.frame.DataFrame'>\n",
      "GameCube - (509, 10) \n",
      " <class 'pandas.core.frame.DataFrame'>\n",
      "Genesis - (58, 10) \n",
      " <class 'pandas.core.frame.DataFrame'>\n",
      "Linux - (10, 10) \n",
      " <class 'pandas.core.frame.DataFrame'>\n",
      "Lynx - (82, 10) \n",
      " <class 'pandas.core.frame.DataFrame'>\n",
      "Macintosh - (81, 10) \n",
      " <class 'pandas.core.frame.DataFrame'>\n",
      "Master System - (13, 10) \n",
      " <class 'pandas.core.frame.DataFrame'>\n",
      "N-Gage - (30, 10) \n",
      " <class 'pandas.core.frame.DataFrame'>\n",
      "NES - (49, 10) \n",
      " <class 'pandas.core.frame.DataFrame'>\n",
      "NeoGeo - (10, 10) \n",
      " <class 'pandas.core.frame.DataFrame'>\n",
      "NeoGeo Pocket Color - (31, 10) \n",
      " <class 'pandas.core.frame.DataFrame'>\n",
      "New Nintendo 3DS - (2, 10) \n",
      " <class 'pandas.core.frame.DataFrame'>\n",
      "Nintendo 3DS - (225, 10) \n",
      " <class 'pandas.core.frame.DataFrame'>\n",
      "Nintendo 64 - (302, 10) \n",
      " <class 'pandas.core.frame.DataFrame'>\n",
      "Nintendo 64DD - (7, 10) \n",
      " <class 'pandas.core.frame.DataFrame'>\n",
      "Nintendo DS - (1045, 10) \n",
      " <class 'pandas.core.frame.DataFrame'>\n",
      "Nintendo DSi - (254, 10) \n",
      " <class 'pandas.core.frame.DataFrame'>\n",
      "Ouya - (1, 10) \n",
      " <class 'pandas.core.frame.DataFrame'>\n",
      "PC - (3370, 10) \n",
      " <class 'pandas.core.frame.DataFrame'>\n",
      "PlayStation - (952, 10) \n",
      " <class 'pandas.core.frame.DataFrame'>\n",
      "PlayStation 2 - (1686, 10) \n",
      " <class 'pandas.core.frame.DataFrame'>\n",
      "PlayStation 3 - (1356, 10) \n",
      " <class 'pandas.core.frame.DataFrame'>\n",
      "PlayStation 4 - (277, 10) \n",
      " <class 'pandas.core.frame.DataFrame'>\n",
      "PlayStation Portable - (633, 10) \n",
      " <class 'pandas.core.frame.DataFrame'>\n",
      "PlayStation Vita - (155, 10) \n",
      " <class 'pandas.core.frame.DataFrame'>\n",
      "Pocket PC - (1, 10) \n",
      " <class 'pandas.core.frame.DataFrame'>\n",
      "Saturn - (6, 10) \n",
      " <class 'pandas.core.frame.DataFrame'>\n",
      "Sega 32X - (16, 10) \n",
      " <class 'pandas.core.frame.DataFrame'>\n",
      "Sega CD - (1, 10) \n",
      " <class 'pandas.core.frame.DataFrame'>\n",
      "SteamOS - (1, 10) \n",
      " <class 'pandas.core.frame.DataFrame'>\n",
      "Super NES - (33, 10) \n",
      " <class 'pandas.core.frame.DataFrame'>\n",
      "TurboGrafx-16 - (40, 10) \n",
      " <class 'pandas.core.frame.DataFrame'>\n",
      "TurboGrafx-CD - (3, 10) \n",
      " <class 'pandas.core.frame.DataFrame'>\n",
      "Vectrex - (2, 10) \n",
      " <class 'pandas.core.frame.DataFrame'>\n",
      "Web Games - (1, 10) \n",
      " <class 'pandas.core.frame.DataFrame'>\n",
      "Wii - (1366, 10) \n",
      " <class 'pandas.core.frame.DataFrame'>\n",
      "Wii U - (114, 10) \n",
      " <class 'pandas.core.frame.DataFrame'>\n",
      "Windows Phone - (14, 10) \n",
      " <class 'pandas.core.frame.DataFrame'>\n",
      "Windows Surface - (1, 10) \n",
      " <class 'pandas.core.frame.DataFrame'>\n",
      "Wireless - (910, 10) \n",
      " <class 'pandas.core.frame.DataFrame'>\n",
      "WonderSwan - (4, 10) \n",
      " <class 'pandas.core.frame.DataFrame'>\n",
      "WonderSwan Color - (1, 10) \n",
      " <class 'pandas.core.frame.DataFrame'>\n",
      "Xbox - (821, 10) \n",
      " <class 'pandas.core.frame.DataFrame'>\n",
      "Xbox 360 - (1631, 10) \n",
      " <class 'pandas.core.frame.DataFrame'>\n",
      "Xbox One - (208, 10) \n",
      " <class 'pandas.core.frame.DataFrame'>\n",
      "iPad - (99, 10) \n",
      " <class 'pandas.core.frame.DataFrame'>\n",
      "iPhone - (842, 10) \n",
      " <class 'pandas.core.frame.DataFrame'>\n",
      "iPod - (17, 10) \n",
      " <class 'pandas.core.frame.DataFrame'>\n"
     ]
    }
   ],
   "source": [
    "for name, group in grouped:\n",
    "    print(f\"{name} - {group.shape} \\n {type(group)}\")"
   ]
  },
  {
   "cell_type": "code",
   "execution_count": 38,
   "id": "b3822cf7",
   "metadata": {},
   "outputs": [
    {
     "data": {
      "text/plain": [
       "score_phrase\n",
       "Amazing         9.176663\n",
       "Awful           3.290211\n",
       "Bad             4.331600\n",
       "Disaster        0.666667\n",
       "Good            7.369099\n",
       "Great           8.316510\n",
       "Masterpiece    10.000000\n",
       "Mediocre        5.318530\n",
       "Okay            6.366553\n",
       "Painful         2.267941\n",
       "Unbearable      1.290278\n",
       "Name: score, dtype: float64"
      ]
     },
     "execution_count": 38,
     "metadata": {},
     "output_type": "execute_result"
    }
   ],
   "source": [
    "reviews.groupby('score_phrase')['score'].mean()"
   ]
  },
  {
   "cell_type": "code",
   "execution_count": null,
   "id": "3a1187fb",
   "metadata": {},
   "outputs": [
    {
     "data": {
      "text/plain": [
       "<Axes: >"
      ]
     },
     "execution_count": 40,
     "metadata": {},
     "output_type": "execute_result"
    },
    {
     "data": {
      "image/png": "[encoded data removed]",
      "text/plain": [
       "<Figure size 640x480 with 1 Axes>"
      ]
     },
     "metadata": {},
     "output_type": "display_data"
    }
   ],
   "source": [
    "reviews[\"score\"].hist() "
   ]
  }
 ],
 "metadata": {
  "kernelspec": {
   "display_name": "Python 3",
   "language": "python",
   "name": "python3"
  },
  "language_info": {
   "codemirror_mode": {
    "name": "ipython",
    "version": 3
   },
   "file_extension": ".py",
   "mimetype": "text/x-python",
   "name": "python",
   "nbconvert_exporter": "python",
   "pygments_lexer": "ipython3",
   "version": "3.10.12"
  }
 },
 "nbformat": 4,
 "nbformat_minor": 5
}
